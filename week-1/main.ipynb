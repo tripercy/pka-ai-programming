{
 "cells": [
  {
   "cell_type": "markdown",
   "metadata": {},
   "source": [
    "# Bai 2:"
   ]
  },
  {
   "cell_type": "code",
   "execution_count": 1,
   "metadata": {},
   "outputs": [],
   "source": [
    "def get_unique_val(d: list):\n",
    "    unique_vals = set(d)\n",
    "    for val in unique_vals:\n",
    "        print(val)"
   ]
  },
  {
   "cell_type": "code",
   "execution_count": 2,
   "metadata": {},
   "outputs": [
    {
     "name": "stdout",
     "output_type": "stream",
     "text": [
      "word100\n",
      "word\n",
      "word2\n",
      "word1\n",
      "4\n"
     ]
    }
   ],
   "source": [
    "# INPUT: word1 word 2 word1 word1 word100 word4 word2 word100\n",
    "user_input = input(\"Nhập từ điển D: \")\n",
    "d = user_input.split()\n",
    "get_unique_val(d)"
   ]
  },
  {
   "cell_type": "markdown",
   "metadata": {},
   "source": [
    "# Bai 4:"
   ]
  },
  {
   "cell_type": "code",
   "execution_count": 3,
   "metadata": {},
   "outputs": [],
   "source": [
    "def letter_cnt(s: str):\n",
    "    letter_dict = {}\n",
    "    for letter in s:\n",
    "        if letter in letter_dict:\n",
    "            letter_dict[letter] += 1\n",
    "        else:\n",
    "            letter_dict[letter] = 1\n",
    "    return letter_dict"
   ]
  },
  {
   "cell_type": "code",
   "execution_count": 4,
   "metadata": {},
   "outputs": [
    {
     "data": {
      "text/plain": [
       "{'d': 1,\n",
       " 'a': 1,\n",
       " 'i': 2,\n",
       " ' ': 3,\n",
       " 'h': 2,\n",
       " 'o': 2,\n",
       " 'c': 1,\n",
       " 't': 1,\n",
       " 'u': 1,\n",
       " 'y': 1,\n",
       " 'l': 1}"
      ]
     },
     "execution_count": 4,
     "metadata": {},
     "output_type": "execute_result"
    }
   ],
   "source": [
    "user_input = input(\"Nhập chuỗi s: \")\n",
    "letter_cnt(user_input)"
   ]
  },
  {
   "cell_type": "code",
   "execution_count": null,
   "metadata": {},
   "outputs": [],
   "source": []
  }
 ],
 "metadata": {
  "kernelspec": {
   "display_name": "machine_learning_env",
   "language": "python",
   "name": "python3"
  },
  "language_info": {
   "codemirror_mode": {
    "name": "ipython",
    "version": 3
   },
   "file_extension": ".py",
   "mimetype": "text/x-python",
   "name": "python",
   "nbconvert_exporter": "python",
   "pygments_lexer": "ipython3",
   "version": "3.10.8"
  }
 },
 "nbformat": 4,
 "nbformat_minor": 2
}
